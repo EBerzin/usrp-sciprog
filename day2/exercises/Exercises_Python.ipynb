{
 "cells": [
  {
   "cell_type": "markdown",
   "metadata": {},
   "source": [
    "# Exercises"
   ]
  },
  {
   "cell_type": "markdown",
   "metadata": {},
   "source": [
    "***Rules***:\n",
    "\n",
    "* Every variable/function/class name should be meaningful\n",
    "* Variable/function names should be lowercase, class names uppercase\n",
    "* Write a documentation string (even if minimal) for every function."
   ]
  },
  {
   "cell_type": "markdown",
   "metadata": {},
   "source": [
    "1) (From [jakevdp](https://github.com/jakevdp/2014_fall_ASTR599/blob/master/notebooks/01_basic_training.ipynb)): Create a program (a .py file) which repeatedly asks the user for a word. The program should append all the words together. When the user types a \"!\", \"?\", or a \".\", the program should print the resulting sentence and exit.\n",
    "\n",
    "   For example, a session might look like this::\n",
    "\n",
    "    $ ./make_sentence.py\n",
    "    Enter a word (. ! or ? to end): My\n",
    "    Enter a word (. ! or ? to end): name\n",
    "    Enter a word (. ! or ? to end): is\n",
    "    Enter a word (. ! or ? to end): Walter\n",
    "    Enter a word (. ! or ? to end): White\n",
    "    Enter a word (. ! or ? to end): !\n",
    "    \n",
    "    My name is Walter White!"
   ]
  },
  {
   "cell_type": "code",
   "execution_count": 1,
   "metadata": {},
   "outputs": [
    {
     "name": "stdout",
     "output_type": "stream",
     "text": [
      "Enter a word (. ! or ? to end): Hello\n",
      "Enter a word (. ! or ? to end): !\n",
      "Hello ! \n"
     ]
    }
   ],
   "source": [
    "#The following line will only work if you create the make_sentence.py in the current directory\n",
    "import make_sentence"
   ]
  },
  {
   "cell_type": "markdown",
   "metadata": {},
   "source": [
    "2) (From [jakevdp](https://github.com/jakevdp/2014_fall_ASTR599/blob/master/notebooks/01_basic_training.ipynb)):  Write a program that prints the numbers from 1 to 100. But for multiples of three print “Fizz” instead of the number and for the multiples of five print “Buzz”. For numbers which are multiples of both three and five print “FizzBuzz”. If you finish quickly... see how **few** characters you can write this program in (this is known as \"code golf\": going for the fewest key strokes).\n"
   ]
  },
  {
   "cell_type": "code",
   "execution_count": 1,
   "metadata": {},
   "outputs": [
    {
     "name": "stdout",
     "output_type": "stream",
     "text": [
      "1\n",
      "2\n",
      "Fizz\n",
      "4\n",
      "Buzz\n",
      "Fizz\n",
      "7\n",
      "8\n",
      "Fizz\n",
      "Buzz\n",
      "11\n",
      "Fizz\n",
      "13\n",
      "14\n",
      "Fizz\n",
      "16\n",
      "17\n",
      "Fizz\n",
      "19\n",
      "Buzz\n",
      "Fizz\n",
      "22\n",
      "23\n",
      "Fizz\n",
      "Buzz\n",
      "26\n",
      "Fizz\n",
      "28\n",
      "29\n",
      "Fizz\n",
      "31\n",
      "32\n",
      "Fizz\n",
      "34\n",
      "Buzz\n",
      "Fizz\n",
      "37\n",
      "38\n",
      "Fizz\n",
      "Buzz\n",
      "41\n",
      "Fizz\n",
      "43\n",
      "44\n",
      "Fizz\n",
      "46\n",
      "47\n",
      "Fizz\n",
      "49\n",
      "Buzz\n",
      "Fizz\n",
      "52\n",
      "53\n",
      "Fizz\n",
      "Buzz\n",
      "56\n",
      "Fizz\n",
      "58\n",
      "59\n",
      "Fizz\n",
      "61\n",
      "62\n",
      "Fizz\n",
      "64\n",
      "Buzz\n",
      "Fizz\n",
      "67\n",
      "68\n",
      "Fizz\n",
      "Buzz\n",
      "71\n",
      "Fizz\n",
      "73\n",
      "74\n",
      "Fizz\n",
      "76\n",
      "77\n",
      "Fizz\n",
      "79\n",
      "Buzz\n",
      "Fizz\n",
      "82\n",
      "83\n",
      "Fizz\n",
      "Buzz\n",
      "86\n",
      "Fizz\n",
      "88\n",
      "89\n",
      "Fizz\n",
      "91\n",
      "92\n",
      "Fizz\n",
      "94\n",
      "Buzz\n",
      "Fizz\n",
      "97\n",
      "98\n",
      "Fizz\n"
     ]
    }
   ],
   "source": [
    "for n in range(1,100):\n",
    "    if n%3 == 0:\n",
    "        print(\"Fizz\")\n",
    "    elif n%5 == 0:\n",
    "        print(\"Buzz\")\n",
    "    elif n%3 == 0 and n%5 == 0:\n",
    "        print(\"FizzBuzz\")\n",
    "    else: \n",
    "        print(n)"
   ]
  },
  {
   "cell_type": "markdown",
   "metadata": {},
   "source": [
    "3) Write a function called ``sum_digits`` that returns the sum of the digits of an integer argument; that is, ``sum_digits(123)`` should return ``6``.  Use this function in an other function that prints out the sum of the digits of every integer multiple of the first argument, up to either a second optional argument (if included) or the first argument's square.  That is::\n",
    "\n",
    "    list_multiple(4) #with one argument\n",
    "    4\n",
    "    8\n",
    "    3\n",
    "    7\n",
    "    \n",
    "And I'll let you figure out what it looks like with a second optional argument"
   ]
  },
  {
   "cell_type": "code",
   "execution_count": 2,
   "metadata": {},
   "outputs": [],
   "source": [
    "def sum_digits(number):\n",
    "    number_string = str(number)\n",
    "    sum = 0\n",
    "    for i in number_string:\n",
    "        sum += int(i)\n",
    "    return sum\n",
    "\n",
    "#Don't forget the second function \n",
    "def list_multiple(number, multiple = None):\n",
    "    if multiple == None:\n",
    "        multiple = number**2\n",
    "    n = 0\n",
    "    m = 0\n",
    "    result = 0\n",
    "    while (n < multiple):\n",
    "        m += 1\n",
    "        n = number * m\n",
    "        if (n > multiple):\n",
    "            break\n",
    "        result = sum_digits(n)\n",
    "        print(result)\n",
    "    return"
   ]
  },
  {
   "cell_type": "code",
   "execution_count": 3,
   "metadata": {},
   "outputs": [
    {
     "name": "stdout",
     "output_type": "stream",
     "text": [
      "4\n",
      "8\n",
      "3\n",
      "7\n",
      "2\n"
     ]
    }
   ],
   "source": [
    "#And test it\n",
    "(sum_digits(123))\n",
    "list_multiple(4,21)"
   ]
  },
  {
   "cell_type": "markdown",
   "metadata": {},
   "source": [
    "4) This is an object oriented problem. Make sure you covered a relevant tutorial before covering this. \n",
    "\n",
    "Some fun with object-oriented programming: make a file called ``solarsystem.py`` that defines ``Star``, ``Planet``, and ``System`` objects that enable the provided notebook file to work as demonstrated.  If you finish this, feel free to add more functionality to these objects!"
   ]
  }
 ],
 "metadata": {
  "kernelspec": {
   "display_name": "Python 3",
   "language": "python",
   "name": "python3"
  },
  "language_info": {
   "codemirror_mode": {
    "name": "ipython",
    "version": 3
   },
   "file_extension": ".py",
   "mimetype": "text/x-python",
   "name": "python",
   "nbconvert_exporter": "python",
   "pygments_lexer": "ipython3",
   "version": "3.7.7"
  }
 },
 "nbformat": 4,
 "nbformat_minor": 2
}
