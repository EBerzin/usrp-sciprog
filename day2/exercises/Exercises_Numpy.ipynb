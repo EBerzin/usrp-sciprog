{
 "cells": [
  {
   "cell_type": "markdown",
   "metadata": {},
   "source": [
    "# Exercise numpy\n",
    "The ultimate goal of this exercise is to compare the position of stars in a patch of sky as measured in two different surveys. The main task at hand is to identify matching positions of stars between the surveys. For this, we will need to compare the positions of all stars in one survey to the position of all stars in the other survey. This task can be extremely time consuming if not implemented properly, we will therefore use this to compare different coding style and their impact on computation time. \n",
    "\n",
    "If time allows, we will move on to represent the results of our analysis in a meaningfull way."
   ]
  },
  {
   "cell_type": "code",
   "execution_count": 1,
   "metadata": {},
   "outputs": [],
   "source": [
    "import numpy as np \n",
    "import matplotlib.pyplot as plt #We might need this\n",
    "import scipy"
   ]
  },
  {
   "cell_type": "code",
   "execution_count": 2,
   "metadata": {},
   "outputs": [],
   "source": [
    "#First, let us load the data\n",
    "#Catalog from HSC \n",
    "cat_hsc = np.loadtxt('./Catalog_HSC.csv')\n",
    "x_hsc = cat_hsc[:,0]\n",
    "y_hsc = cat_hsc[:,1]\n",
    "#Catalog from HST\n",
    "cat_hst = np.loadtxt('./Catalog_HST.csv')\n",
    "x_hst = cat_hst[:,0]\n",
    "y_hst = cat_hst[:,1]"
   ]
  },
  {
   "cell_type": "markdown",
   "metadata": {},
   "source": [
    "Check that the loaded data are consistent with what we expect: (ra, dec) coordinates of the same patch of sky"
   ]
  },
  {
   "cell_type": "code",
   "execution_count": 16,
   "metadata": {},
   "outputs": [
    {
     "name": "stdout",
     "output_type": "stream",
     "text": [
      "Number of stars in HST catalog: 28109\n",
      "Number of stars in HSC catalog: 219346\n"
     ]
    }
   ],
   "source": [
    "#First, check the number of stars in each survey:\n",
    "ns_hst = len(x_hst)\n",
    "ns_hsc = len(x_hsc)\n",
    "#Print the result\n",
    "print(\"Number of stars in HST catalog: \" + str(ns_hst))\n",
    "print(\"Number of stars in HSC catalog: \" + str(ns_hsc))"
   ]
  },
  {
   "cell_type": "code",
   "execution_count": 17,
   "metadata": {},
   "outputs": [
    {
     "name": "stderr",
     "output_type": "stream",
     "text": [
      "/Users/lizard/opt/anaconda3/lib/python3.7/site-packages/ipykernel/eventloops.py:106: UserWarning: Creating legend with loc=\"best\" can be slow with large amounts of data.\n",
      "  app.exec_()\n"
     ]
    }
   ],
   "source": [
    "#This is a graphic representation of our data content:\n",
    "%matplotlib qt\n",
    "plt.title('star catalogs in COSMOS')\n",
    "plt.plot(x_hsc, y_hsc, 'or', label = 'hsc catalog')\n",
    "plt.plot(x_hst, y_hst, 'ob', label = 'hst catalog')\n",
    "plt.legend()\n",
    "plt.xlabel('ra')\n",
    "plt.ylabel('dec')\n",
    "plt.show()"
   ]
  },
  {
   "cell_type": "markdown",
   "metadata": {},
   "source": [
    "To begin with, let's write a function that returns the algebraic distance between two points"
   ]
  },
  {
   "cell_type": "code",
   "execution_count": 18,
   "metadata": {},
   "outputs": [],
   "source": [
    "def distance(point1, point2):\n",
    "    ''' Returns the distance between two points with coordinates (x,y).\n",
    "    \n",
    "    Parameters\n",
    "    ----------\n",
    "    point1: list\n",
    "        2D coordinates of a point \n",
    "    point2: list\n",
    "        2D coordinates of a point \n",
    "        \n",
    "    Returns\n",
    "    -------\n",
    "    d: float\n",
    "        the distance between point1 and point2\n",
    "    '''\n",
    "    x1, y1 = point1[0], point1[1]\n",
    "    x2, y2 = point2[0], point2[1]\n",
    "    \n",
    "    distance = np.sqrt((x2 - x1)**2 + (y2 - y1)**2)\n",
    "    \n",
    "    return distance"
   ]
  },
  {
   "cell_type": "markdown",
   "metadata": {},
   "source": [
    "Now let's test it by comparing the distance between the first point of each dataset."
   ]
  },
  {
   "cell_type": "code",
   "execution_count": 19,
   "metadata": {},
   "outputs": [
    {
     "name": "stdout",
     "output_type": "stream",
     "text": [
      "0.6648994838877168\n"
     ]
    }
   ],
   "source": [
    "point1 = [x_hst[0], y_hst[0]]\n",
    "point2 = [x_hsc[0], y_hsc[0]]\n",
    "print(distance(point1, point2))\n",
    "# Answer should be 0.6648994838877168"
   ]
  },
  {
   "cell_type": "markdown",
   "metadata": {},
   "source": [
    "Let's take it one step further and compare the distance between one point and a set of points"
   ]
  },
  {
   "cell_type": "code",
   "execution_count": 20,
   "metadata": {},
   "outputs": [],
   "source": [
    "def point_to_points_distance(point, coordinates):\n",
    "    ''' Returns the distance between one point and all the points in coordinates.\n",
    "    \n",
    "    Parameters\n",
    "    ----------\n",
    "    point: list\n",
    "        2D coordinates of a point \n",
    "    coordinates: list\n",
    "        set of N 2D coordinates stored in a list with shape Nx2\n",
    "        \n",
    "    Returns\n",
    "    -------\n",
    "    d: list\n",
    "        the distance between point and each point in coordinates in an array with size N\n",
    "    '''\n",
    "    #Declaring an empty list\n",
    "    d = []\n",
    "    for c in coordinates:\n",
    "        # for each point in coordinates, take the distance to point and concatenate it to d \n",
    "        d.append(distance(point, c))\n",
    "    #make d a numpy array and return it\n",
    "    return np.array(d)"
   ]
  },
  {
   "cell_type": "markdown",
   "metadata": {},
   "source": [
    "Let's test it on the first 10 points in the HSC catalog and the first point of the HST catalog"
   ]
  },
  {
   "cell_type": "code",
   "execution_count": 21,
   "metadata": {},
   "outputs": [
    {
     "name": "stdout",
     "output_type": "stream",
     "text": [
      "[0.66489948 0.4628197  0.39672485 0.43854084 0.32165335 0.30223269\n",
      " 0.65765909 0.65411548 0.6474303  0.79301678]\n"
     ]
    }
   ],
   "source": [
    "coords = np.concatenate((x_hsc[:10,None], y_hsc[:10,None]), axis = 1)\n",
    "print(point_to_points_distance(point1, coords))\n",
    "# The answer should look like [0.66489948 0.4628197  0.39672485 0.43854084 0.32165335 0.30223269\n",
    "# 0.65765909 0.65411548 0.6474303  0.79301678]"
   ]
  },
  {
   "cell_type": "markdown",
   "metadata": {},
   "source": [
    "Now let's get to work. We would like to associate stars in one survey to their conterpart (if it exists) in the other survey. We will start by comparing the positions between each point of one survey to the position of each point in the other survey.\n",
    "\n",
    "First, write a function that takes two sets of coordinates (hsc and hst) and returns the distance from each point of one survey to each point of the other, such that the output should be an array of size (n_hst x n_hsc) or (n_hsc x n_hst).\n",
    "\n",
    "PS: if you have several (different) ideas about how to implement this, feel free to code them!"
   ]
  },
  {
   "cell_type": "code",
   "execution_count": 22,
   "metadata": {},
   "outputs": [],
   "source": [
    "def single_loop(coord1, coord2): # Choose an adequate name for your function\n",
    "    ''' Returns the distance between points in two sets of coordinates.\n",
    "    \n",
    "    Parameters\n",
    "    coord1: array\n",
    "        array of size Nx2 that contains the [x, y] positions of a catalog \n",
    "    coord2: array\n",
    "        array of size Mx2 that contains the [x, y] positions of a catalog \n",
    "    \n",
    "    Returns\n",
    "    dist: array\n",
    "        array of size NxM that contains the euclidean distances between points in the two datasets\n",
    "    '''\n",
    "    d = []\n",
    "    for c in coord1:\n",
    "        d.append(point_to_points_distance(c, coord2))\n",
    "    \n",
    "    return np.array(d)\n",
    "\n",
    "#def double_loop(coord1, coord2):\n",
    "    #d = []\n",
    "    #for i in coord1:\n",
    "        #for j in coord2:\n",
    "            #d.append(distance(i,j))\n",
    "    #return np.array(d)\n",
    "\n",
    "def scipy_method(coord1,coord2):\n",
    "    d = scipy.spatial.distance.cdist(coord1, coord2)\n",
    "    return np.array(d)\n",
    "\n",
    "def matrices_method(coord1, coord2):\n",
    "    #points_array = np.concatenate((coord1[][:,None], coord2[:,None]), axis = 0)\n",
    "    # Reshape arrays\n",
    "    # \n",
    "    \n",
    "    x = np.matmul(np.matrix.transpose(points_array), points_array)\n",
    "    \n",
    "    \n",
    "    \n",
    "    \n",
    "    "
   ]
  },
  {
   "cell_type": "markdown",
   "metadata": {},
   "source": [
    "Now, let us take a look at the computation times:"
   ]
  },
  {
   "cell_type": "code",
   "execution_count": 40,
   "metadata": {},
   "outputs": [
    {
     "name": "stdout",
     "output_type": "stream",
     "text": [
      "1102\n",
      "165\n"
     ]
    }
   ],
   "source": [
    "# In order not to spend the whole evening here, let us reduce the dataset size:\n",
    "#Select stars in hsc in the frame: 150.0<x<150.1 and 2.0<y<2.1\n",
    "loc_hsc = np.where((x_hsc > 150.0) & (x_hsc < 150.1) & (y_hsc > 2.0) & (y_hsc < 2.1))[0]\n",
    "x_hsc_exp = x_hsc[loc_hsc]\n",
    "y_hsc_exp = y_hsc[loc_hsc]\n",
    "\n",
    "print(len(x_hsc_exp))\n",
    "\n",
    "\n",
    "loc_hst = np.where((x_hst > 150.0) & (x_hst < 150.1) & (y_hst > 2.0) & (y_hst < 2.1))[0]\n",
    "x_hst_exp = x_hst[loc_hst]\n",
    "y_hst_exp = y_hst[loc_hst]\n",
    "\n",
    "print(len(x_hst_exp))\n",
    "\n",
    "#Once you are done with the exercise, feel free to try with larger selections to see how it impacts computation time"
   ]
  },
  {
   "cell_type": "code",
   "execution_count": 48,
   "metadata": {},
   "outputs": [
    {
     "name": "stdout",
     "output_type": "stream",
     "text": [
      "(165, 1102)\n",
      "single_loop\n",
      "1.1 s ± 438 ms per loop (mean ± std. dev. of 7 runs, 1 loop each)\n",
      "done!\n",
      "double_loop\n",
      "1.44 s ± 355 ms per loop (mean ± std. dev. of 7 runs, 1 loop each)\n",
      "done!\n",
      "scipy_method\n",
      "1.2 ms ± 255 µs per loop (mean ± std. dev. of 7 runs, 1000 loops each)\n",
      "done!\n"
     ]
    }
   ],
   "source": [
    "import distances as dt\n",
    "# Insert the names of your functions in the following array:\n",
    "#methods = [single_loop, dt.double_loop, dt.with_indices, dt.one_loop, dt.one_loop_reverse, dt.scipy_version, dt.newaxis_magic]\n",
    "methods = [single_loop, double_loop, scipy_method]\n",
    "#An empty variable to store computation time\n",
    "timers = []\n",
    "# Making sets of coordinates of size Nx2 to feed your functions with the right format\n",
    "c2 = np.concatenate((x_hst_exp[:,None], y_hst_exp[:,None]), axis = 1)\n",
    "c1 = np.concatenate((x_hsc_exp[:,None], y_hsc_exp[:,None]), axis = 1)\n",
    "\n",
    "d1 = scipy_method(c2,c1)\n",
    "d2 = single_loop(c2,c1)\n",
    "print(np.shape(d1))\n",
    "\n",
    "for f in methods:\n",
    "    print(f.__name__)\n",
    "    r = %timeit -o f(c1, c2)\n",
    "    timers.append(r)\n",
    "    print(\"done!\")"
   ]
  },
  {
   "cell_type": "code",
   "execution_count": 49,
   "metadata": {},
   "outputs": [],
   "source": [
    "#View the results:\n",
    "plt.figure(figsize=(10,6))\n",
    "plt.bar(np.arange(len(methods)), [r.best*1000 for r in timers], log=True)  # Set log to True for logarithmic scale\n",
    "plt.xticks(np.arange(len(methods))+0.2, [f.__name__ for f in methods], rotation=30)\n",
    "plt.xlabel('Method')\n",
    "plt.ylabel('Time (ms)')\n",
    "plt.yscale('log')\n",
    "plt.show()"
   ]
  },
  {
   "cell_type": "markdown",
   "metadata": {},
   "source": [
    "# Identifying matching stars (optional)\n",
    "Now that we know all the distances, let us find the stars in each datasets that correspond to one another.\n",
    "This is done by finding, for each star, the minimum distance recorded between the two datasets.\n",
    "\n",
    "One problem that arises with deriving an array that computes all the distances is that we end up with a very LARGE array, which becomes impractical for fast computations. Instead, we will modify one of the previous functions so that it returns the coordinates of stars that have a match in both datasets along with their distance.\n",
    "\n",
    "Because all stars in a given set do not have a counter part in the other, we will only accept a match if the minimum distance between two points is smaller than 0.17 arcseconds (the size of an HSC pixel).\n",
    "\n",
    "In other words, for each star in one dataset, find the star in the other dataset that is the closest (minimum distance), check wether that star is closer that 0.17 arcseconds, if yes, store its coordinates along with the computed distance. At the end of the function, return arrays with the matching star coordinates and their distance to their match in the other dataset."
   ]
  },
  {
   "cell_type": "code",
   "execution_count": 39,
   "metadata": {},
   "outputs": [],
   "source": [
    "#Let us compute the distances as we did before, but this time, with the whole dataset.\n",
    "#Of course, a fast method is to be prefered\n",
    "\n",
    "c1 = np.concatenate((x_hsc[:,None], y_hsc[:,None]), axis = 1)\n",
    "c2 = np.concatenate((x_hst[:,None], y_hst[:,None]), axis = 1)\n"
   ]
  },
  {
   "cell_type": "code",
   "execution_count": 44,
   "metadata": {},
   "outputs": [],
   "source": [
    "def get_match(coord_ref, coord2, rad):\n",
    "    '''\n",
    "    matches coordinates of stars between two datasets and computes the distance between the position of the stars in the 2 datasets\n",
    "\n",
    "    Parameters\n",
    "    coord_ref: numpy array (Nx2)\n",
    "        coordinates (ra, dec) of stars in a FoV from a given dataset\n",
    "    coord2: numpy array (Mx2)\n",
    "        coordinates (ra dec) of stars in the same FoV in an other dataset\n",
    "    rad: float\n",
    "        radius (deg) around stars in coord_ref where to find a corresponding star in coord2\n",
    "            \n",
    "    Returns\n",
    "    modulus:numpy array (N')\n",
    "        containing the distance between matching stars\n",
    "    v_coord: numpy array(N',2)\n",
    "        coordinates in the coord_ref set of matching stars\n",
    "            \n",
    "\n",
    "    '''\n",
    "    #Declare two empty arrays to store the coordinates and distances.\n",
    "    #...\n",
    "    matched_coords = []\n",
    "    matched_dists = []\n",
    "    s = np.size(coord_ref[:,0])#This is just for representation\n",
    "    print('number of points in reference catalog: {0}'.format(s))\n",
    "    #for each star in coord_ref\n",
    "    for i,c in enumerate(coord_ref):\n",
    "\n",
    "        #This is just here to keep track of the algorithm's progression\n",
    "        if i % 3000 == 0:\n",
    "            print('point number {0} out of {1}'.format(i, s))\n",
    "        #compute the distance from c to all stars in coord2\n",
    "        r = point_to_points_distance(c, coord2)\n",
    "        #Find the closest star from coord 2 to c\n",
    "        loc = coord2[np.where(np.min(r))]\n",
    "\n",
    "        #Make sure that there is only one star matching (it can happen that 2 match)\n",
    "        #Here I just arbitrarily pick one, but you can find a way to discard these stars\n",
    "        if np.size(loc) > 1:\n",
    "            loc = loc[0]\n",
    "\n",
    "        #record the distance between matching stars\n",
    "        rmin = np.min(r)\n",
    "        \n",
    "        #Check whether the closest distance is smaller than rad\n",
    "        if (rmin < rad):\n",
    "            matched_coords.append(loc)\n",
    "            matched_dists.append(rmin)\n",
    "            #if yes, place the coordinates and the distance in an array\n",
    "            #... tip: use append()\n",
    "\n",
    "    return matched_coords, matched_dists"
   ]
  },
  {
   "cell_type": "code",
   "execution_count": 45,
   "metadata": {},
   "outputs": [
    {
     "name": "stdout",
     "output_type": "stream",
     "text": [
      "number of points in reference catalog: 219346\n",
      "point number 0 out of 219346\n"
     ]
    },
    {
     "ename": "ValueError",
     "evalue": "XA must be a 2-dimensional array.",
     "output_type": "error",
     "traceback": [
      "\u001b[0;31m-----------------------------------------------------------------------\u001b[0m",
      "\u001b[0;31mValueError\u001b[0m                            Traceback (most recent call last)",
      "\u001b[0;32m<ipython-input-45-f2b09911a0d7>\u001b[0m in \u001b[0;36m<module>\u001b[0;34m\u001b[0m\n\u001b[1;32m      1\u001b[0m \u001b[0;31m# Use your function\u001b[0m\u001b[0;34m\u001b[0m\u001b[0;34m\u001b[0m\u001b[0;34m\u001b[0m\u001b[0m\n\u001b[0;32m----> 2\u001b[0;31m \u001b[0mcoord\u001b[0m \u001b[0;34m,\u001b[0m \u001b[0mr\u001b[0m \u001b[0;34m=\u001b[0m \u001b[0mget_match\u001b[0m\u001b[0;34m(\u001b[0m\u001b[0mc1\u001b[0m\u001b[0;34m,\u001b[0m \u001b[0mc2\u001b[0m\u001b[0;34m,\u001b[0m \u001b[0;36m0.3\u001b[0m\u001b[0;34m/\u001b[0m\u001b[0;36m3600.\u001b[0m\u001b[0;34m)\u001b[0m\u001b[0;34m\u001b[0m\u001b[0;34m\u001b[0m\u001b[0m\n\u001b[0m",
      "\u001b[0;32m<ipython-input-44-cab20b0b7872>\u001b[0m in \u001b[0;36mget_match\u001b[0;34m(coord_ref, coord2, rad)\u001b[0m\n\u001b[1;32m     32\u001b[0m             \u001b[0mprint\u001b[0m\u001b[0;34m(\u001b[0m\u001b[0;34m'point number {0} out of {1}'\u001b[0m\u001b[0;34m.\u001b[0m\u001b[0mformat\u001b[0m\u001b[0;34m(\u001b[0m\u001b[0mi\u001b[0m\u001b[0;34m,\u001b[0m \u001b[0ms\u001b[0m\u001b[0;34m)\u001b[0m\u001b[0;34m)\u001b[0m\u001b[0;34m\u001b[0m\u001b[0;34m\u001b[0m\u001b[0m\n\u001b[1;32m     33\u001b[0m         \u001b[0;31m#compute the distance from c to all stars in coord2\u001b[0m\u001b[0;34m\u001b[0m\u001b[0;34m\u001b[0m\u001b[0;34m\u001b[0m\u001b[0m\n\u001b[0;32m---> 34\u001b[0;31m         \u001b[0mr\u001b[0m \u001b[0;34m=\u001b[0m \u001b[0mscipy_method\u001b[0m\u001b[0;34m(\u001b[0m\u001b[0mc\u001b[0m\u001b[0;34m,\u001b[0m \u001b[0mcoord2\u001b[0m\u001b[0;34m)\u001b[0m\u001b[0;34m\u001b[0m\u001b[0;34m\u001b[0m\u001b[0m\n\u001b[0m\u001b[1;32m     35\u001b[0m         \u001b[0;31m#Find the closest star from coord 2 to c\u001b[0m\u001b[0;34m\u001b[0m\u001b[0;34m\u001b[0m\u001b[0;34m\u001b[0m\u001b[0m\n\u001b[1;32m     36\u001b[0m         \u001b[0mloc\u001b[0m \u001b[0;34m=\u001b[0m \u001b[0mcoord2\u001b[0m\u001b[0;34m[\u001b[0m\u001b[0mnp\u001b[0m\u001b[0;34m.\u001b[0m\u001b[0mwhere\u001b[0m\u001b[0;34m(\u001b[0m\u001b[0mnp\u001b[0m\u001b[0;34m.\u001b[0m\u001b[0mmin\u001b[0m\u001b[0;34m(\u001b[0m\u001b[0mr\u001b[0m\u001b[0;34m)\u001b[0m\u001b[0;34m)\u001b[0m\u001b[0;34m]\u001b[0m\u001b[0;34m\u001b[0m\u001b[0;34m\u001b[0m\u001b[0m\n",
      "\u001b[0;32m<ipython-input-22-8b31f0eef000>\u001b[0m in \u001b[0;36mscipy_method\u001b[0;34m(coord1, coord2)\u001b[0m\n\u001b[1;32m     26\u001b[0m \u001b[0;34m\u001b[0m\u001b[0m\n\u001b[1;32m     27\u001b[0m \u001b[0;32mdef\u001b[0m \u001b[0mscipy_method\u001b[0m\u001b[0;34m(\u001b[0m\u001b[0mcoord1\u001b[0m\u001b[0;34m,\u001b[0m\u001b[0mcoord2\u001b[0m\u001b[0;34m)\u001b[0m\u001b[0;34m:\u001b[0m\u001b[0;34m\u001b[0m\u001b[0;34m\u001b[0m\u001b[0m\n\u001b[0;32m---> 28\u001b[0;31m     \u001b[0md\u001b[0m \u001b[0;34m=\u001b[0m \u001b[0mscipy\u001b[0m\u001b[0;34m.\u001b[0m\u001b[0mspatial\u001b[0m\u001b[0;34m.\u001b[0m\u001b[0mdistance\u001b[0m\u001b[0;34m.\u001b[0m\u001b[0mcdist\u001b[0m\u001b[0;34m(\u001b[0m\u001b[0mcoord1\u001b[0m\u001b[0;34m,\u001b[0m \u001b[0mcoord2\u001b[0m\u001b[0;34m)\u001b[0m\u001b[0;34m\u001b[0m\u001b[0;34m\u001b[0m\u001b[0m\n\u001b[0m\u001b[1;32m     29\u001b[0m     \u001b[0;32mreturn\u001b[0m \u001b[0mnp\u001b[0m\u001b[0;34m.\u001b[0m\u001b[0marray\u001b[0m\u001b[0;34m(\u001b[0m\u001b[0md\u001b[0m\u001b[0;34m)\u001b[0m\u001b[0;34m\u001b[0m\u001b[0;34m\u001b[0m\u001b[0m\n",
      "\u001b[0;32m~/opt/anaconda3/lib/python3.7/site-packages/scipy/spatial/distance.py\u001b[0m in \u001b[0;36mcdist\u001b[0;34m(XA, XB, metric, *args, **kwargs)\u001b[0m\n\u001b[1;32m   2715\u001b[0m \u001b[0;34m\u001b[0m\u001b[0m\n\u001b[1;32m   2716\u001b[0m     \u001b[0;32mif\u001b[0m \u001b[0mlen\u001b[0m\u001b[0;34m(\u001b[0m\u001b[0ms\u001b[0m\u001b[0;34m)\u001b[0m \u001b[0;34m!=\u001b[0m \u001b[0;36m2\u001b[0m\u001b[0;34m:\u001b[0m\u001b[0;34m\u001b[0m\u001b[0;34m\u001b[0m\u001b[0m\n\u001b[0;32m-> 2717\u001b[0;31m         \u001b[0;32mraise\u001b[0m \u001b[0mValueError\u001b[0m\u001b[0;34m(\u001b[0m\u001b[0;34m'XA must be a 2-dimensional array.'\u001b[0m\u001b[0;34m)\u001b[0m\u001b[0;34m\u001b[0m\u001b[0;34m\u001b[0m\u001b[0m\n\u001b[0m\u001b[1;32m   2718\u001b[0m     \u001b[0;32mif\u001b[0m \u001b[0mlen\u001b[0m\u001b[0;34m(\u001b[0m\u001b[0msB\u001b[0m\u001b[0;34m)\u001b[0m \u001b[0;34m!=\u001b[0m \u001b[0;36m2\u001b[0m\u001b[0;34m:\u001b[0m\u001b[0;34m\u001b[0m\u001b[0;34m\u001b[0m\u001b[0m\n\u001b[1;32m   2719\u001b[0m         \u001b[0;32mraise\u001b[0m \u001b[0mValueError\u001b[0m\u001b[0;34m(\u001b[0m\u001b[0;34m'XB must be a 2-dimensional array.'\u001b[0m\u001b[0;34m)\u001b[0m\u001b[0;34m\u001b[0m\u001b[0;34m\u001b[0m\u001b[0m\n",
      "\u001b[0;31mValueError\u001b[0m: XA must be a 2-dimensional array."
     ]
    }
   ],
   "source": [
    "# Use your function \n",
    "coord , r = get_match(c1, c2, 0.3/3600.)"
   ]
  },
  {
   "cell_type": "markdown",
   "metadata": {},
   "source": [
    "Now I would like to have a representation for the work we have done that informs me about what is in my datasets. Namely, what is the error on star positions between the two datasets? We would like to have a global view of this error but also an impression of the error as a function of the position on the field. For the latter, I suggest you use the 'scatter' function from matplotlib.\n"
   ]
  },
  {
   "cell_type": "code",
   "execution_count": null,
   "metadata": {},
   "outputs": [],
   "source": [
    "#Spatial distribution of distances\n",
    "plt.title('distribution of distances accross the FoV')\n",
    "#..."
   ]
  },
  {
   "cell_type": "code",
   "execution_count": null,
   "metadata": {},
   "outputs": [],
   "source": [
    "#Global representation\n",
    "#..."
   ]
  },
  {
   "cell_type": "code",
   "execution_count": null,
   "metadata": {},
   "outputs": [],
   "source": []
  }
 ],
 "metadata": {
  "kernelspec": {
   "display_name": "Python 3",
   "language": "python",
   "name": "python3"
  },
  "language_info": {
   "codemirror_mode": {
    "name": "ipython",
    "version": 3
   },
   "file_extension": ".py",
   "mimetype": "text/x-python",
   "name": "python",
   "nbconvert_exporter": "python",
   "pygments_lexer": "ipython3",
   "version": "3.7.7"
  }
 },
 "nbformat": 4,
 "nbformat_minor": 2
}
